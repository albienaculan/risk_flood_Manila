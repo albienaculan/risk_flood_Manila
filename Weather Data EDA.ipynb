{
 "cells": [
  {
   "cell_type": "code",
   "execution_count": 6,
   "id": "81fd65cb",
   "metadata": {},
   "outputs": [],
   "source": [
    "import pandas as pd"
   ]
  },
  {
   "cell_type": "code",
   "execution_count": 7,
   "id": "60bc6bd2",
   "metadata": {},
   "outputs": [],
   "source": [
    "weather_df = pd.read_csv(\"Weather.csv\")"
   ]
  },
  {
   "cell_type": "code",
   "execution_count": 8,
   "id": "548cf598",
   "metadata": {},
   "outputs": [
    {
     "data": {
      "text/plain": [
       "Index(['STATION', 'NAME', 'LATITUDE', 'LONGITUDE', 'ELEVATION', 'DATE', 'PRCP',\n",
       "       'PRCP_ATTRIBUTES', 'TAVG', 'TAVG_ATTRIBUTES', 'TMAX', 'TMAX_ATTRIBUTES',\n",
       "       'TMIN', 'TMIN_ATTRIBUTES'],\n",
       "      dtype='object')"
      ]
     },
     "execution_count": 8,
     "metadata": {},
     "output_type": "execute_result"
    }
   ],
   "source": [
    "weather_df.columns"
   ]
  },
  {
   "cell_type": "code",
   "execution_count": 9,
   "id": "e03715b4",
   "metadata": {},
   "outputs": [
    {
     "data": {
      "text/plain": [
       "MACTAN CEBU INTERNATIONAL, RP    4328\n",
       "LEGASPI, RP                      4324\n",
       "BAGUIO, RP                       4323\n",
       "HINATUAN, RP                     4323\n",
       "DAGUPAN, RP                      4322\n",
       "VIGAN, RP                        4316\n",
       "VIRAC, RP                        4312\n",
       "BASCO RADAR, RP                  4299\n",
       "ITBAYAT, RP                      4273\n",
       "LAOAG, RP                        3972\n",
       "TUGUEGARAO, RP                   3936\n",
       "TAGBILARAN, RP                   3887\n",
       "CABANATUAN, RP                   2919\n",
       "DANIEL Z ROMUALDEZ, RP           2210\n",
       "ILOILO, RP                         86\n",
       "Name: NAME, dtype: int64"
      ]
     },
     "execution_count": 9,
     "metadata": {},
     "output_type": "execute_result"
    }
   ],
   "source": [
    "weather_df['NAME'].value_counts() # Date: Jan 1 2011 - Dec 31 2021"
   ]
  },
  {
   "cell_type": "code",
   "execution_count": 10,
   "id": "4bed802a",
   "metadata": {},
   "outputs": [],
   "source": [
    "weather_mnl = pd.read_csv(\"Weather_MNL.csv\")"
   ]
  },
  {
   "cell_type": "code",
   "execution_count": 11,
   "id": "f728f02d",
   "metadata": {},
   "outputs": [
    {
     "data": {
      "text/plain": [
       "8068"
      ]
     },
     "execution_count": 11,
     "metadata": {},
     "output_type": "execute_result"
    }
   ],
   "source": [
    "len(weather_mnl)"
   ]
  },
  {
   "cell_type": "code",
   "execution_count": 12,
   "id": "d3bf71d3",
   "metadata": {},
   "outputs": [
    {
     "data": {
      "text/plain": [
       "0.0      1639\n",
       "0.5       160\n",
       "1.0       154\n",
       "0.3       100\n",
       "2.0        85\n",
       "         ... \n",
       "258.6       1\n",
       "97.0        1\n",
       "56.6        1\n",
       "33.3        1\n",
       "67.1        1\n",
       "Name: PRCP, Length: 317, dtype: int64"
      ]
     },
     "execution_count": 12,
     "metadata": {},
     "output_type": "execute_result"
    }
   ],
   "source": [
    "weather_mnl['PRCP'].value_counts() #precipation (in weather) amount of water na nasa ground Total na ng snow, hail, rain, etc. "
   ]
  },
  {
   "cell_type": "code",
   "execution_count": 13,
   "id": "27776676",
   "metadata": {},
   "outputs": [
    {
     "data": {
      "text/html": [
       "<div>\n",
       "<style scoped>\n",
       "    .dataframe tbody tr th:only-of-type {\n",
       "        vertical-align: middle;\n",
       "    }\n",
       "\n",
       "    .dataframe tbody tr th {\n",
       "        vertical-align: top;\n",
       "    }\n",
       "\n",
       "    .dataframe thead th {\n",
       "        text-align: right;\n",
       "    }\n",
       "</style>\n",
       "<table border=\"1\" class=\"dataframe\">\n",
       "  <thead>\n",
       "    <tr style=\"text-align: right;\">\n",
       "      <th></th>\n",
       "      <th>STATION</th>\n",
       "      <th>NAME</th>\n",
       "      <th>LATITUDE</th>\n",
       "      <th>LONGITUDE</th>\n",
       "      <th>ELEVATION</th>\n",
       "      <th>DATE</th>\n",
       "      <th>PRCP</th>\n",
       "      <th>PRCP_ATTRIBUTES</th>\n",
       "      <th>TAVG</th>\n",
       "      <th>TAVG_ATTRIBUTES</th>\n",
       "      <th>TMAX</th>\n",
       "      <th>TMAX_ATTRIBUTES</th>\n",
       "      <th>TMIN</th>\n",
       "      <th>TMIN_ATTRIBUTES</th>\n",
       "    </tr>\n",
       "  </thead>\n",
       "  <tbody>\n",
       "    <tr>\n",
       "      <th>0</th>\n",
       "      <td>RPW00041229</td>\n",
       "      <td>MANILA, RP</td>\n",
       "      <td>14.55</td>\n",
       "      <td>120.98333</td>\n",
       "      <td>4.3</td>\n",
       "      <td>2000-01-01</td>\n",
       "      <td>NaN</td>\n",
       "      <td>NaN</td>\n",
       "      <td>28.4</td>\n",
       "      <td>H,,S</td>\n",
       "      <td>NaN</td>\n",
       "      <td>NaN</td>\n",
       "      <td>24.6</td>\n",
       "      <td>,,S</td>\n",
       "    </tr>\n",
       "    <tr>\n",
       "      <th>1</th>\n",
       "      <td>RPW00041229</td>\n",
       "      <td>MANILA, RP</td>\n",
       "      <td>14.55</td>\n",
       "      <td>120.98333</td>\n",
       "      <td>4.3</td>\n",
       "      <td>2000-01-02</td>\n",
       "      <td>0.0</td>\n",
       "      <td>D,,S</td>\n",
       "      <td>27.1</td>\n",
       "      <td>H,,S</td>\n",
       "      <td>NaN</td>\n",
       "      <td>NaN</td>\n",
       "      <td>24.8</td>\n",
       "      <td>,,S</td>\n",
       "    </tr>\n",
       "    <tr>\n",
       "      <th>2</th>\n",
       "      <td>RPW00041229</td>\n",
       "      <td>MANILA, RP</td>\n",
       "      <td>14.55</td>\n",
       "      <td>120.98333</td>\n",
       "      <td>4.3</td>\n",
       "      <td>2000-01-03</td>\n",
       "      <td>0.0</td>\n",
       "      <td>D,,S</td>\n",
       "      <td>27.6</td>\n",
       "      <td>H,,S</td>\n",
       "      <td>29.5</td>\n",
       "      <td>,,S</td>\n",
       "      <td>24.5</td>\n",
       "      <td>,,S</td>\n",
       "    </tr>\n",
       "    <tr>\n",
       "      <th>3</th>\n",
       "      <td>RPW00041229</td>\n",
       "      <td>MANILA, RP</td>\n",
       "      <td>14.55</td>\n",
       "      <td>120.98333</td>\n",
       "      <td>4.3</td>\n",
       "      <td>2000-01-04</td>\n",
       "      <td>0.0</td>\n",
       "      <td>D,,S</td>\n",
       "      <td>27.4</td>\n",
       "      <td>H,,S</td>\n",
       "      <td>32.0</td>\n",
       "      <td>,,S</td>\n",
       "      <td>24.0</td>\n",
       "      <td>,,S</td>\n",
       "    </tr>\n",
       "    <tr>\n",
       "      <th>4</th>\n",
       "      <td>RPW00041229</td>\n",
       "      <td>MANILA, RP</td>\n",
       "      <td>14.55</td>\n",
       "      <td>120.98333</td>\n",
       "      <td>4.3</td>\n",
       "      <td>2000-01-05</td>\n",
       "      <td>0.0</td>\n",
       "      <td>D,,S</td>\n",
       "      <td>27.6</td>\n",
       "      <td>H,,S</td>\n",
       "      <td>29.8</td>\n",
       "      <td>,,S</td>\n",
       "      <td>NaN</td>\n",
       "      <td>NaN</td>\n",
       "    </tr>\n",
       "  </tbody>\n",
       "</table>\n",
       "</div>"
      ],
      "text/plain": [
       "       STATION        NAME  LATITUDE  LONGITUDE  ELEVATION        DATE  PRCP  \\\n",
       "0  RPW00041229  MANILA, RP     14.55  120.98333        4.3  2000-01-01   NaN   \n",
       "1  RPW00041229  MANILA, RP     14.55  120.98333        4.3  2000-01-02   0.0   \n",
       "2  RPW00041229  MANILA, RP     14.55  120.98333        4.3  2000-01-03   0.0   \n",
       "3  RPW00041229  MANILA, RP     14.55  120.98333        4.3  2000-01-04   0.0   \n",
       "4  RPW00041229  MANILA, RP     14.55  120.98333        4.3  2000-01-05   0.0   \n",
       "\n",
       "  PRCP_ATTRIBUTES  TAVG TAVG_ATTRIBUTES  TMAX TMAX_ATTRIBUTES  TMIN  \\\n",
       "0             NaN  28.4            H,,S   NaN             NaN  24.6   \n",
       "1            D,,S  27.1            H,,S   NaN             NaN  24.8   \n",
       "2            D,,S  27.6            H,,S  29.5             ,,S  24.5   \n",
       "3            D,,S  27.4            H,,S  32.0             ,,S  24.0   \n",
       "4            D,,S  27.6            H,,S  29.8             ,,S   NaN   \n",
       "\n",
       "  TMIN_ATTRIBUTES  \n",
       "0             ,,S  \n",
       "1             ,,S  \n",
       "2             ,,S  \n",
       "3             ,,S  \n",
       "4             NaN  "
      ]
     },
     "execution_count": 13,
     "metadata": {},
     "output_type": "execute_result"
    }
   ],
   "source": [
    "weather_mnl.head() # Jan 1 2000 to Dec 31 2021"
   ]
  },
  {
   "cell_type": "code",
   "execution_count": 14,
   "id": "f8284ffd",
   "metadata": {},
   "outputs": [],
   "source": [
    "# Wag muna i-remove ung regional data. If may pipeline na for Manila, we can just replace regions.\n"
   ]
  },
  {
   "cell_type": "code",
   "execution_count": null,
   "id": "00fbda4c",
   "metadata": {},
   "outputs": [],
   "source": [
    "# [Bien] Population density [Bien]\n",
    "# [Bien] Correlation ng quantitative variables (magsasabi ng columns na ireretain, pwedeng i-standardize) sns.correlation (ung merong score and density na plot) -- ireretain ung mataas. Before feature engineering, wala munang alisin. If pangit ang result, saka feature engineering. \n",
    "# [BIEN] STL\n",
    "# Autocorrelation? (for cyclic typhoons)\n",
    "# Regressor models\n",
    "# [BIEN] Call PAGASA for water-level data of rivers and dams\n",
    "# Add column on dates (year, month column) to check for seasonality\n",
    "# [Iggy] Consecutive days of rainfall\n",
    "# Categorical data idea: below and above sea level [search for more categorical data possible]\n",
    "# Economic implications (estimate of damages) [pero baka ambitious] [optional]\n",
    "# map of manila, tapos meron kang parang color-coded risk\n",
    "# [Bien] Data story\n",
    "\n",
    "\n",
    "\n",
    "# [BIEN] Data to ask for pagasa: elavation (of station), latitude and longitude, station name, name of city where the station is,"
   ]
  }
 ],
 "metadata": {
  "kernelspec": {
   "display_name": "Python 3 (ipykernel)",
   "language": "python",
   "name": "python3"
  },
  "language_info": {
   "codemirror_mode": {
    "name": "ipython",
    "version": 3
   },
   "file_extension": ".py",
   "mimetype": "text/x-python",
   "name": "python",
   "nbconvert_exporter": "python",
   "pygments_lexer": "ipython3",
   "version": "3.9.12"
  }
 },
 "nbformat": 4,
 "nbformat_minor": 5
}
