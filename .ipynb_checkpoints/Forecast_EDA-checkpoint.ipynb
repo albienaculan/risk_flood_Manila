{
 "cells": [
  {
   "cell_type": "code",
   "execution_count": 1,
   "id": "359ec18a",
   "metadata": {},
   "outputs": [
    {
     "name": "stderr",
     "output_type": "stream",
     "text": [
      "[nltk_data] Downloading package stopwords to\n",
      "[nltk_data]     C:\\Users\\albie\\AppData\\Roaming\\nltk_data...\n",
      "[nltk_data]   Package stopwords is already up-to-date!\n"
     ]
    },
    {
     "data": {
      "text/plain": [
       "True"
      ]
     },
     "execution_count": 1,
     "metadata": {},
     "output_type": "execute_result"
    }
   ],
   "source": [
    "# general libraries\n",
    "import warnings\n",
    "import numpy as np\n",
    "import pandas as pd\n",
    "from tqdm import tqdm\n",
    "from collections import Counter\n",
    "warnings.filterwarnings(\"ignore\")\n",
    "\n",
    "# visualization\n",
    "import seaborn as sns\n",
    "import matplotlib.pyplot as plt\n",
    "#!pip install wordcloud\n",
    "#!pip install nltk\n",
    "from wordcloud import WordCloud\n",
    "from nltk.corpus import stopwords\n",
    "\n",
    "import nltk\n",
    "nltk.download('stopwords')"
   ]
  },
  {
   "cell_type": "markdown",
   "id": "a44a3e4a",
   "metadata": {},
   "source": [
    "<div><span style=\"background-color: #000080; padding-top: 100px; padding-right: 20px; padding-bottom: 50px; padding-left: 20px; color: #FFFAF0; font-size: 24px; font-weight: bold\">Data Cleaning and Preprocessing </span></div>"
   ]
  },
  {
   "cell_type": "code",
   "execution_count": 9,
   "id": "70bc4738",
   "metadata": {},
   "outputs": [
    {
     "data": {
      "text/plain": [
       "(406, 1)"
      ]
     },
     "metadata": {},
     "output_type": "display_data"
    },
    {
     "data": {
      "text/html": [
       "<div>\n",
       "<style scoped>\n",
       "    .dataframe tbody tr th:only-of-type {\n",
       "        vertical-align: middle;\n",
       "    }\n",
       "\n",
       "    .dataframe tbody tr th {\n",
       "        vertical-align: top;\n",
       "    }\n",
       "\n",
       "    .dataframe thead th {\n",
       "        text-align: right;\n",
       "    }\n",
       "</style>\n",
       "<table border=\"1\" class=\"dataframe\">\n",
       "  <thead>\n",
       "    <tr style=\"text-align: right;\">\n",
       "      <th></th>\n",
       "      <th>Point.Forecast \"Lo.80\" \"Hi.80\" \"Lo.95\" \"Hi.95\"</th>\n",
       "    </tr>\n",
       "  </thead>\n",
       "  <tbody>\n",
       "    <tr>\n",
       "      <th>0</th>\n",
       "      <td>2022.9014 0.794059508451463 -28.8663255381649 ...</td>\n",
       "    </tr>\n",
       "    <tr>\n",
       "      <th>1</th>\n",
       "      <td>2022.9041 3.41997759251412 -27.3618513392477 3...</td>\n",
       "    </tr>\n",
       "    <tr>\n",
       "      <th>2</th>\n",
       "      <td>2022.9068 1.39850059715903 -29.5209140738191 3...</td>\n",
       "    </tr>\n",
       "    <tr>\n",
       "      <th>3</th>\n",
       "      <td>2022.9096 0.256142686209231 -30.7199369034764 ...</td>\n",
       "    </tr>\n",
       "    <tr>\n",
       "      <th>4</th>\n",
       "      <td>2022.9123 0.164639842866531 -30.8348205245092 ...</td>\n",
       "    </tr>\n",
       "  </tbody>\n",
       "</table>\n",
       "</div>"
      ],
      "text/plain": [
       "      Point.Forecast \"Lo.80\" \"Hi.80\" \"Lo.95\" \"Hi.95\"\n",
       "0  2022.9014 0.794059508451463 -28.8663255381649 ...\n",
       "1  2022.9041 3.41997759251412 -27.3618513392477 3...\n",
       "2  2022.9068 1.39850059715903 -29.5209140738191 3...\n",
       "3  2022.9096 0.256142686209231 -30.7199369034764 ...\n",
       "4  2022.9123 0.164639842866531 -30.8348205245092 ..."
      ]
     },
     "metadata": {},
     "output_type": "display_data"
    }
   ],
   "source": [
    "df = pd.read_csv(\"forecast.csv\")\n",
    "display(df.shape, df.head())"
   ]
  },
  {
   "cell_type": "code",
   "execution_count": 23,
   "id": "dd9e311a",
   "metadata": {},
   "outputs": [],
   "source": [
    "df['date'] = pd.date_range(start='11/20/2022', end = '12/31/2023', periods=len(df))"
   ]
  },
  {
   "cell_type": "code",
   "execution_count": 28,
   "id": "a55f10e9",
   "metadata": {},
   "outputs": [
    {
     "data": {
      "text/html": [
       "<div>\n",
       "<style scoped>\n",
       "    .dataframe tbody tr th:only-of-type {\n",
       "        vertical-align: middle;\n",
       "    }\n",
       "\n",
       "    .dataframe tbody tr th {\n",
       "        vertical-align: top;\n",
       "    }\n",
       "\n",
       "    .dataframe thead th {\n",
       "        text-align: right;\n",
       "    }\n",
       "</style>\n",
       "<table border=\"1\" class=\"dataframe\">\n",
       "  <thead>\n",
       "    <tr style=\"text-align: right;\">\n",
       "      <th></th>\n",
       "      <th>Point.Forecast \"Lo.80\" \"Hi.80\" \"Lo.95\" \"Hi.95\"</th>\n",
       "      <th>date</th>\n",
       "    </tr>\n",
       "  </thead>\n",
       "  <tbody>\n",
       "    <tr>\n",
       "      <th>0</th>\n",
       "      <td>2022.9014 0.794059508451463 -28.8663255381649 ...</td>\n",
       "      <td>2022-11-20 00:00:00.000000000</td>\n",
       "    </tr>\n",
       "    <tr>\n",
       "      <th>1</th>\n",
       "      <td>2022.9041 3.41997759251412 -27.3618513392477 3...</td>\n",
       "      <td>2022-11-21 00:03:33.333333333</td>\n",
       "    </tr>\n",
       "    <tr>\n",
       "      <th>2</th>\n",
       "      <td>2022.9068 1.39850059715903 -29.5209140738191 3...</td>\n",
       "      <td>2022-11-22 00:07:06.666666666</td>\n",
       "    </tr>\n",
       "    <tr>\n",
       "      <th>3</th>\n",
       "      <td>2022.9096 0.256142686209231 -30.7199369034764 ...</td>\n",
       "      <td>2022-11-23 00:10:40.000000000</td>\n",
       "    </tr>\n",
       "    <tr>\n",
       "      <th>4</th>\n",
       "      <td>2022.9123 0.164639842866531 -30.8348205245092 ...</td>\n",
       "      <td>2022-11-24 00:14:13.333333333</td>\n",
       "    </tr>\n",
       "  </tbody>\n",
       "</table>\n",
       "</div>"
      ],
      "text/plain": [
       "      Point.Forecast \"Lo.80\" \"Hi.80\" \"Lo.95\" \"Hi.95\"  \\\n",
       "0  2022.9014 0.794059508451463 -28.8663255381649 ...   \n",
       "1  2022.9041 3.41997759251412 -27.3618513392477 3...   \n",
       "2  2022.9068 1.39850059715903 -29.5209140738191 3...   \n",
       "3  2022.9096 0.256142686209231 -30.7199369034764 ...   \n",
       "4  2022.9123 0.164639842866531 -30.8348205245092 ...   \n",
       "\n",
       "                           date  \n",
       "0 2022-11-20 00:00:00.000000000  \n",
       "1 2022-11-21 00:03:33.333333333  \n",
       "2 2022-11-22 00:07:06.666666666  \n",
       "3 2022-11-23 00:10:40.000000000  \n",
       "4 2022-11-24 00:14:13.333333333  "
      ]
     },
     "execution_count": 28,
     "metadata": {},
     "output_type": "execute_result"
    }
   ],
   "source": [
    "df.head()"
   ]
  },
  {
   "cell_type": "code",
   "execution_count": 31,
   "id": "f2589f26",
   "metadata": {},
   "outputs": [],
   "source": [
    "df['Date'] = df['date'].dt.date"
   ]
  },
  {
   "cell_type": "code",
   "execution_count": 33,
   "id": "253df789",
   "metadata": {},
   "outputs": [
    {
     "data": {
      "text/html": [
       "<div>\n",
       "<style scoped>\n",
       "    .dataframe tbody tr th:only-of-type {\n",
       "        vertical-align: middle;\n",
       "    }\n",
       "\n",
       "    .dataframe tbody tr th {\n",
       "        vertical-align: top;\n",
       "    }\n",
       "\n",
       "    .dataframe thead th {\n",
       "        text-align: right;\n",
       "    }\n",
       "</style>\n",
       "<table border=\"1\" class=\"dataframe\">\n",
       "  <thead>\n",
       "    <tr style=\"text-align: right;\">\n",
       "      <th></th>\n",
       "      <th>Point.Forecast \"Lo.80\" \"Hi.80\" \"Lo.95\" \"Hi.95\"</th>\n",
       "      <th>Date</th>\n",
       "    </tr>\n",
       "  </thead>\n",
       "  <tbody>\n",
       "    <tr>\n",
       "      <th>0</th>\n",
       "      <td>2022.9014 0.794059508451463 -28.8663255381649 ...</td>\n",
       "      <td>2022-11-20</td>\n",
       "    </tr>\n",
       "    <tr>\n",
       "      <th>1</th>\n",
       "      <td>2022.9041 3.41997759251412 -27.3618513392477 3...</td>\n",
       "      <td>2022-11-21</td>\n",
       "    </tr>\n",
       "    <tr>\n",
       "      <th>2</th>\n",
       "      <td>2022.9068 1.39850059715903 -29.5209140738191 3...</td>\n",
       "      <td>2022-11-22</td>\n",
       "    </tr>\n",
       "    <tr>\n",
       "      <th>3</th>\n",
       "      <td>2022.9096 0.256142686209231 -30.7199369034764 ...</td>\n",
       "      <td>2022-11-23</td>\n",
       "    </tr>\n",
       "    <tr>\n",
       "      <th>4</th>\n",
       "      <td>2022.9123 0.164639842866531 -30.8348205245092 ...</td>\n",
       "      <td>2022-11-24</td>\n",
       "    </tr>\n",
       "    <tr>\n",
       "      <th>...</th>\n",
       "      <td>...</td>\n",
       "      <td>...</td>\n",
       "    </tr>\n",
       "    <tr>\n",
       "      <th>401</th>\n",
       "      <td>2024.0000 0.5000001186398 -43.3631205235897 44...</td>\n",
       "      <td>2023-12-26</td>\n",
       "    </tr>\n",
       "    <tr>\n",
       "      <th>402</th>\n",
       "      <td>2024.0027 3.00000007625765 -40.8631205659718 4...</td>\n",
       "      <td>2023-12-27</td>\n",
       "    </tr>\n",
       "    <tr>\n",
       "      <th>403</th>\n",
       "      <td>2024.0055 4.90158311929303e-08 -43.86312059321...</td>\n",
       "      <td>2023-12-28</td>\n",
       "    </tr>\n",
       "    <tr>\n",
       "      <th>404</th>\n",
       "      <td>2024.0082 3.15057160718175e-08 -43.86312061072...</td>\n",
       "      <td>2023-12-29</td>\n",
       "    </tr>\n",
       "    <tr>\n",
       "      <th>405</th>\n",
       "      <td>2024.0110 2.02508071584096e-08 -43.86312062197...</td>\n",
       "      <td>2023-12-31</td>\n",
       "    </tr>\n",
       "  </tbody>\n",
       "</table>\n",
       "<p>406 rows × 2 columns</p>\n",
       "</div>"
      ],
      "text/plain": [
       "        Point.Forecast \"Lo.80\" \"Hi.80\" \"Lo.95\" \"Hi.95\"        Date\n",
       "0    2022.9014 0.794059508451463 -28.8663255381649 ...  2022-11-20\n",
       "1    2022.9041 3.41997759251412 -27.3618513392477 3...  2022-11-21\n",
       "2    2022.9068 1.39850059715903 -29.5209140738191 3...  2022-11-22\n",
       "3    2022.9096 0.256142686209231 -30.7199369034764 ...  2022-11-23\n",
       "4    2022.9123 0.164639842866531 -30.8348205245092 ...  2022-11-24\n",
       "..                                                 ...         ...\n",
       "401  2024.0000 0.5000001186398 -43.3631205235897 44...  2023-12-26\n",
       "402  2024.0027 3.00000007625765 -40.8631205659718 4...  2023-12-27\n",
       "403  2024.0055 4.90158311929303e-08 -43.86312059321...  2023-12-28\n",
       "404  2024.0082 3.15057160718175e-08 -43.86312061072...  2023-12-29\n",
       "405  2024.0110 2.02508071584096e-08 -43.86312062197...  2023-12-31\n",
       "\n",
       "[406 rows x 2 columns]"
      ]
     },
     "execution_count": 33,
     "metadata": {},
     "output_type": "execute_result"
    }
   ],
   "source": [
    "df.drop('date', axis=1, inplace=True)\n",
    "df"
   ]
  },
  {
   "cell_type": "code",
   "execution_count": 36,
   "id": "b11bc6b9",
   "metadata": {},
   "outputs": [
    {
     "data": {
      "text/html": [
       "<div>\n",
       "<style scoped>\n",
       "    .dataframe tbody tr th:only-of-type {\n",
       "        vertical-align: middle;\n",
       "    }\n",
       "\n",
       "    .dataframe tbody tr th {\n",
       "        vertical-align: top;\n",
       "    }\n",
       "\n",
       "    .dataframe thead th {\n",
       "        text-align: right;\n",
       "    }\n",
       "</style>\n",
       "<table border=\"1\" class=\"dataframe\">\n",
       "  <thead>\n",
       "    <tr style=\"text-align: right;\">\n",
       "      <th></th>\n",
       "      <th>Point.Forecast \"Lo.80\" \"Hi.80\" \"Lo.95\" \"Hi.95\"</th>\n",
       "    </tr>\n",
       "    <tr>\n",
       "      <th>Date</th>\n",
       "      <th></th>\n",
       "    </tr>\n",
       "  </thead>\n",
       "  <tbody>\n",
       "    <tr>\n",
       "      <th>2022-11-20</th>\n",
       "      <td>2022.9014 0.794059508451463 -28.8663255381649 ...</td>\n",
       "    </tr>\n",
       "    <tr>\n",
       "      <th>2022-11-21</th>\n",
       "      <td>2022.9041 3.41997759251412 -27.3618513392477 3...</td>\n",
       "    </tr>\n",
       "    <tr>\n",
       "      <th>2022-11-22</th>\n",
       "      <td>2022.9068 1.39850059715903 -29.5209140738191 3...</td>\n",
       "    </tr>\n",
       "    <tr>\n",
       "      <th>2022-11-23</th>\n",
       "      <td>2022.9096 0.256142686209231 -30.7199369034764 ...</td>\n",
       "    </tr>\n",
       "    <tr>\n",
       "      <th>2022-11-24</th>\n",
       "      <td>2022.9123 0.164639842866531 -30.8348205245092 ...</td>\n",
       "    </tr>\n",
       "  </tbody>\n",
       "</table>\n",
       "</div>"
      ],
      "text/plain": [
       "               Point.Forecast \"Lo.80\" \"Hi.80\" \"Lo.95\" \"Hi.95\"\n",
       "Date                                                         \n",
       "2022-11-20  2022.9014 0.794059508451463 -28.8663255381649 ...\n",
       "2022-11-21  2022.9041 3.41997759251412 -27.3618513392477 3...\n",
       "2022-11-22  2022.9068 1.39850059715903 -29.5209140738191 3...\n",
       "2022-11-23  2022.9096 0.256142686209231 -30.7199369034764 ...\n",
       "2022-11-24  2022.9123 0.164639842866531 -30.8348205245092 ..."
      ]
     },
     "execution_count": 36,
     "metadata": {},
     "output_type": "execute_result"
    }
   ],
   "source": [
    "ts_df = df.set_index('Date')\n",
    "ts_df.head()"
   ]
  }
 ],
 "metadata": {
  "kernelspec": {
   "display_name": "Python 3 (ipykernel)",
   "language": "python",
   "name": "python3"
  },
  "language_info": {
   "codemirror_mode": {
    "name": "ipython",
    "version": 3
   },
   "file_extension": ".py",
   "mimetype": "text/x-python",
   "name": "python",
   "nbconvert_exporter": "python",
   "pygments_lexer": "ipython3",
   "version": "3.9.12"
  }
 },
 "nbformat": 4,
 "nbformat_minor": 5
}
